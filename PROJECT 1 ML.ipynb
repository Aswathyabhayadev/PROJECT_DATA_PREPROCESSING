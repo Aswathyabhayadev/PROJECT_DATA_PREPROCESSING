{
 "cells": [
  {
   "cell_type": "code",
   "execution_count": 1,
   "id": "8f353efd",
   "metadata": {},
   "outputs": [],
   "source": [
    "import pandas as pd\n",
    "import numpy as np\n",
    "import matplotlib.pyplot as plt\n",
    "import seaborn as sns"
   ]
  },
  {
   "cell_type": "code",
   "execution_count": 2,
   "id": "28ef7ff0",
   "metadata": {},
   "outputs": [],
   "source": [
    "df = pd.read_csv(\"C:\\\\Users\\\\aswat\\\\Desktop\\\\Employee.csv\")"
   ]
  },
  {
   "cell_type": "code",
   "execution_count": 3,
   "id": "168e4eac",
   "metadata": {},
   "outputs": [
    {
     "data": {
      "text/html": [
       "<div>\n",
       "<style scoped>\n",
       "    .dataframe tbody tr th:only-of-type {\n",
       "        vertical-align: middle;\n",
       "    }\n",
       "\n",
       "    .dataframe tbody tr th {\n",
       "        vertical-align: top;\n",
       "    }\n",
       "\n",
       "    .dataframe thead th {\n",
       "        text-align: right;\n",
       "    }\n",
       "</style>\n",
       "<table border=\"1\" class=\"dataframe\">\n",
       "  <thead>\n",
       "    <tr style=\"text-align: right;\">\n",
       "      <th></th>\n",
       "      <th>Company</th>\n",
       "      <th>Age</th>\n",
       "      <th>Salary</th>\n",
       "      <th>Place</th>\n",
       "      <th>Country</th>\n",
       "      <th>Gender</th>\n",
       "    </tr>\n",
       "  </thead>\n",
       "  <tbody>\n",
       "    <tr>\n",
       "      <th>0</th>\n",
       "      <td>TCS</td>\n",
       "      <td>20.0</td>\n",
       "      <td>NaN</td>\n",
       "      <td>Chennai</td>\n",
       "      <td>India</td>\n",
       "      <td>0</td>\n",
       "    </tr>\n",
       "    <tr>\n",
       "      <th>1</th>\n",
       "      <td>Infosys</td>\n",
       "      <td>30.0</td>\n",
       "      <td>NaN</td>\n",
       "      <td>Mumbai</td>\n",
       "      <td>India</td>\n",
       "      <td>0</td>\n",
       "    </tr>\n",
       "    <tr>\n",
       "      <th>2</th>\n",
       "      <td>TCS</td>\n",
       "      <td>35.0</td>\n",
       "      <td>2300.0</td>\n",
       "      <td>Calcutta</td>\n",
       "      <td>India</td>\n",
       "      <td>0</td>\n",
       "    </tr>\n",
       "    <tr>\n",
       "      <th>3</th>\n",
       "      <td>Infosys</td>\n",
       "      <td>40.0</td>\n",
       "      <td>3000.0</td>\n",
       "      <td>Delhi</td>\n",
       "      <td>India</td>\n",
       "      <td>0</td>\n",
       "    </tr>\n",
       "    <tr>\n",
       "      <th>4</th>\n",
       "      <td>TCS</td>\n",
       "      <td>23.0</td>\n",
       "      <td>4000.0</td>\n",
       "      <td>Mumbai</td>\n",
       "      <td>India</td>\n",
       "      <td>0</td>\n",
       "    </tr>\n",
       "    <tr>\n",
       "      <th>...</th>\n",
       "      <td>...</td>\n",
       "      <td>...</td>\n",
       "      <td>...</td>\n",
       "      <td>...</td>\n",
       "      <td>...</td>\n",
       "      <td>...</td>\n",
       "    </tr>\n",
       "    <tr>\n",
       "      <th>143</th>\n",
       "      <td>TCS</td>\n",
       "      <td>33.0</td>\n",
       "      <td>9024.0</td>\n",
       "      <td>Calcutta</td>\n",
       "      <td>India</td>\n",
       "      <td>1</td>\n",
       "    </tr>\n",
       "    <tr>\n",
       "      <th>144</th>\n",
       "      <td>Infosys</td>\n",
       "      <td>22.0</td>\n",
       "      <td>8787.0</td>\n",
       "      <td>Calcutta</td>\n",
       "      <td>India</td>\n",
       "      <td>1</td>\n",
       "    </tr>\n",
       "    <tr>\n",
       "      <th>145</th>\n",
       "      <td>Infosys</td>\n",
       "      <td>44.0</td>\n",
       "      <td>4034.0</td>\n",
       "      <td>Delhi</td>\n",
       "      <td>India</td>\n",
       "      <td>1</td>\n",
       "    </tr>\n",
       "    <tr>\n",
       "      <th>146</th>\n",
       "      <td>TCS</td>\n",
       "      <td>33.0</td>\n",
       "      <td>5034.0</td>\n",
       "      <td>Mumbai</td>\n",
       "      <td>India</td>\n",
       "      <td>1</td>\n",
       "    </tr>\n",
       "    <tr>\n",
       "      <th>147</th>\n",
       "      <td>Infosys</td>\n",
       "      <td>22.0</td>\n",
       "      <td>8202.0</td>\n",
       "      <td>Cochin</td>\n",
       "      <td>India</td>\n",
       "      <td>0</td>\n",
       "    </tr>\n",
       "  </tbody>\n",
       "</table>\n",
       "<p>148 rows × 6 columns</p>\n",
       "</div>"
      ],
      "text/plain": [
       "     Company   Age  Salary     Place Country  Gender\n",
       "0        TCS  20.0     NaN   Chennai   India       0\n",
       "1    Infosys  30.0     NaN    Mumbai   India       0\n",
       "2        TCS  35.0  2300.0  Calcutta   India       0\n",
       "3    Infosys  40.0  3000.0     Delhi   India       0\n",
       "4        TCS  23.0  4000.0    Mumbai   India       0\n",
       "..       ...   ...     ...       ...     ...     ...\n",
       "143      TCS  33.0  9024.0  Calcutta   India       1\n",
       "144  Infosys  22.0  8787.0  Calcutta   India       1\n",
       "145  Infosys  44.0  4034.0     Delhi   India       1\n",
       "146      TCS  33.0  5034.0    Mumbai   India       1\n",
       "147  Infosys  22.0  8202.0    Cochin   India       0\n",
       "\n",
       "[148 rows x 6 columns]"
      ]
     },
     "execution_count": 3,
     "metadata": {},
     "output_type": "execute_result"
    }
   ],
   "source": [
    "df"
   ]
  },
  {
   "cell_type": "code",
   "execution_count": 4,
   "id": "da472a22",
   "metadata": {},
   "outputs": [
    {
     "name": "stdout",
     "output_type": "stream",
     "text": [
      "<class 'pandas.core.frame.DataFrame'>\n",
      "RangeIndex: 148 entries, 0 to 147\n",
      "Data columns (total 6 columns):\n",
      " #   Column   Non-Null Count  Dtype  \n",
      "---  ------   --------------  -----  \n",
      " 0   Company  140 non-null    object \n",
      " 1   Age      130 non-null    float64\n",
      " 2   Salary   124 non-null    float64\n",
      " 3   Place    134 non-null    object \n",
      " 4   Country  148 non-null    object \n",
      " 5   Gender   148 non-null    int64  \n",
      "dtypes: float64(2), int64(1), object(3)\n",
      "memory usage: 7.1+ KB\n"
     ]
    }
   ],
   "source": [
    "df.info()"
   ]
  },
  {
   "cell_type": "code",
   "execution_count": 5,
   "id": "646a07b9",
   "metadata": {},
   "outputs": [
    {
     "data": {
      "text/plain": [
       "(148, 6)"
      ]
     },
     "execution_count": 5,
     "metadata": {},
     "output_type": "execute_result"
    }
   ],
   "source": [
    "df.shape"
   ]
  },
  {
   "cell_type": "code",
   "execution_count": 6,
   "id": "81bbf889",
   "metadata": {},
   "outputs": [
    {
     "data": {
      "text/html": [
       "<div>\n",
       "<style scoped>\n",
       "    .dataframe tbody tr th:only-of-type {\n",
       "        vertical-align: middle;\n",
       "    }\n",
       "\n",
       "    .dataframe tbody tr th {\n",
       "        vertical-align: top;\n",
       "    }\n",
       "\n",
       "    .dataframe thead th {\n",
       "        text-align: right;\n",
       "    }\n",
       "</style>\n",
       "<table border=\"1\" class=\"dataframe\">\n",
       "  <thead>\n",
       "    <tr style=\"text-align: right;\">\n",
       "      <th></th>\n",
       "      <th>Age</th>\n",
       "      <th>Salary</th>\n",
       "      <th>Gender</th>\n",
       "    </tr>\n",
       "  </thead>\n",
       "  <tbody>\n",
       "    <tr>\n",
       "      <th>count</th>\n",
       "      <td>130.000000</td>\n",
       "      <td>124.000000</td>\n",
       "      <td>148.000000</td>\n",
       "    </tr>\n",
       "    <tr>\n",
       "      <th>mean</th>\n",
       "      <td>30.484615</td>\n",
       "      <td>5312.467742</td>\n",
       "      <td>0.222973</td>\n",
       "    </tr>\n",
       "    <tr>\n",
       "      <th>std</th>\n",
       "      <td>11.096640</td>\n",
       "      <td>2573.764683</td>\n",
       "      <td>0.417654</td>\n",
       "    </tr>\n",
       "    <tr>\n",
       "      <th>min</th>\n",
       "      <td>0.000000</td>\n",
       "      <td>1089.000000</td>\n",
       "      <td>0.000000</td>\n",
       "    </tr>\n",
       "    <tr>\n",
       "      <th>25%</th>\n",
       "      <td>22.000000</td>\n",
       "      <td>3030.000000</td>\n",
       "      <td>0.000000</td>\n",
       "    </tr>\n",
       "    <tr>\n",
       "      <th>50%</th>\n",
       "      <td>32.500000</td>\n",
       "      <td>5000.000000</td>\n",
       "      <td>0.000000</td>\n",
       "    </tr>\n",
       "    <tr>\n",
       "      <th>75%</th>\n",
       "      <td>37.750000</td>\n",
       "      <td>8000.000000</td>\n",
       "      <td>0.000000</td>\n",
       "    </tr>\n",
       "    <tr>\n",
       "      <th>max</th>\n",
       "      <td>54.000000</td>\n",
       "      <td>9876.000000</td>\n",
       "      <td>1.000000</td>\n",
       "    </tr>\n",
       "  </tbody>\n",
       "</table>\n",
       "</div>"
      ],
      "text/plain": [
       "              Age       Salary      Gender\n",
       "count  130.000000   124.000000  148.000000\n",
       "mean    30.484615  5312.467742    0.222973\n",
       "std     11.096640  2573.764683    0.417654\n",
       "min      0.000000  1089.000000    0.000000\n",
       "25%     22.000000  3030.000000    0.000000\n",
       "50%     32.500000  5000.000000    0.000000\n",
       "75%     37.750000  8000.000000    0.000000\n",
       "max     54.000000  9876.000000    1.000000"
      ]
     },
     "execution_count": 6,
     "metadata": {},
     "output_type": "execute_result"
    }
   ],
   "source": [
    "df.describe()"
   ]
  },
  {
   "cell_type": "code",
   "execution_count": 7,
   "id": "a8c156a4",
   "metadata": {},
   "outputs": [],
   "source": [
    "df.rename(columns={'old_name':'new_name'}, inplace=True)"
   ]
  },
  {
   "cell_type": "code",
   "execution_count": 8,
   "id": "f8e16ff3",
   "metadata": {},
   "outputs": [],
   "source": [
    "df.drop_duplicates(inplace=True)"
   ]
  },
  {
   "cell_type": "markdown",
   "id": "0f175099",
   "metadata": {},
   "source": [
    "### DATA CLEANING"
   ]
  },
  {
   "cell_type": "code",
   "execution_count": 9,
   "id": "93d69fb8",
   "metadata": {},
   "outputs": [
    {
     "name": "stdout",
     "output_type": "stream",
     "text": [
      "<class 'pandas.core.frame.DataFrame'>\n",
      "Index: 144 entries, 0 to 147\n",
      "Data columns (total 6 columns):\n",
      " #   Column   Non-Null Count  Dtype  \n",
      "---  ------   --------------  -----  \n",
      " 0   Company  136 non-null    object \n",
      " 1   Age      127 non-null    float64\n",
      " 2   Salary   121 non-null    float64\n",
      " 3   Place    130 non-null    object \n",
      " 4   Country  144 non-null    object \n",
      " 5   Gender   144 non-null    int64  \n",
      "dtypes: float64(2), int64(1), object(3)\n",
      "memory usage: 7.9+ KB\n"
     ]
    }
   ],
   "source": [
    "df.info()"
   ]
  },
  {
   "cell_type": "code",
   "execution_count": 10,
   "id": "ddb7a479",
   "metadata": {},
   "outputs": [
    {
     "data": {
      "text/html": [
       "<div>\n",
       "<style scoped>\n",
       "    .dataframe tbody tr th:only-of-type {\n",
       "        vertical-align: middle;\n",
       "    }\n",
       "\n",
       "    .dataframe tbody tr th {\n",
       "        vertical-align: top;\n",
       "    }\n",
       "\n",
       "    .dataframe thead th {\n",
       "        text-align: right;\n",
       "    }\n",
       "</style>\n",
       "<table border=\"1\" class=\"dataframe\">\n",
       "  <thead>\n",
       "    <tr style=\"text-align: right;\">\n",
       "      <th></th>\n",
       "      <th>Age</th>\n",
       "      <th>Salary</th>\n",
       "      <th>Gender</th>\n",
       "    </tr>\n",
       "  </thead>\n",
       "  <tbody>\n",
       "    <tr>\n",
       "      <th>count</th>\n",
       "      <td>127.000000</td>\n",
       "      <td>121.000000</td>\n",
       "      <td>144.000000</td>\n",
       "    </tr>\n",
       "    <tr>\n",
       "      <th>mean</th>\n",
       "      <td>30.527559</td>\n",
       "      <td>5283.471074</td>\n",
       "      <td>0.222222</td>\n",
       "    </tr>\n",
       "    <tr>\n",
       "      <th>std</th>\n",
       "      <td>11.114717</td>\n",
       "      <td>2585.373600</td>\n",
       "      <td>0.417191</td>\n",
       "    </tr>\n",
       "    <tr>\n",
       "      <th>min</th>\n",
       "      <td>0.000000</td>\n",
       "      <td>1089.000000</td>\n",
       "      <td>0.000000</td>\n",
       "    </tr>\n",
       "    <tr>\n",
       "      <th>25%</th>\n",
       "      <td>22.000000</td>\n",
       "      <td>3030.000000</td>\n",
       "      <td>0.000000</td>\n",
       "    </tr>\n",
       "    <tr>\n",
       "      <th>50%</th>\n",
       "      <td>33.000000</td>\n",
       "      <td>5000.000000</td>\n",
       "      <td>0.000000</td>\n",
       "    </tr>\n",
       "    <tr>\n",
       "      <th>75%</th>\n",
       "      <td>37.500000</td>\n",
       "      <td>8000.000000</td>\n",
       "      <td>0.000000</td>\n",
       "    </tr>\n",
       "    <tr>\n",
       "      <th>max</th>\n",
       "      <td>54.000000</td>\n",
       "      <td>9876.000000</td>\n",
       "      <td>1.000000</td>\n",
       "    </tr>\n",
       "  </tbody>\n",
       "</table>\n",
       "</div>"
      ],
      "text/plain": [
       "              Age       Salary      Gender\n",
       "count  127.000000   121.000000  144.000000\n",
       "mean    30.527559  5283.471074    0.222222\n",
       "std     11.114717  2585.373600    0.417191\n",
       "min      0.000000  1089.000000    0.000000\n",
       "25%     22.000000  3030.000000    0.000000\n",
       "50%     33.000000  5000.000000    0.000000\n",
       "75%     37.500000  8000.000000    0.000000\n",
       "max     54.000000  9876.000000    1.000000"
      ]
     },
     "execution_count": 10,
     "metadata": {},
     "output_type": "execute_result"
    }
   ],
   "source": [
    "df.describe()"
   ]
  },
  {
   "cell_type": "code",
   "execution_count": 11,
   "id": "3b5f11ed",
   "metadata": {},
   "outputs": [
    {
     "name": "stdout",
     "output_type": "stream",
     "text": [
      "Unique Values in Each Feature:\n",
      "Company     6\n",
      "Age        29\n",
      "Salary     40\n",
      "Place      11\n",
      "Country     1\n",
      "Gender      2\n",
      "dtype: int64\n"
     ]
    }
   ],
   "source": [
    "unique_values = df.nunique()\n",
    "print(\"Unique Values in Each Feature:\")\n",
    "print(unique_values)"
   ]
  },
  {
   "cell_type": "code",
   "execution_count": 12,
   "id": "4de7d505",
   "metadata": {},
   "outputs": [],
   "source": [
    "df['Age'] = df['Age'].replace(0, np.nan)"
   ]
  },
  {
   "cell_type": "code",
   "execution_count": 13,
   "id": "856fd68a",
   "metadata": {},
   "outputs": [],
   "source": [
    "df = df.dropna()"
   ]
  },
  {
   "cell_type": "code",
   "execution_count": 14,
   "id": "d8b173f3",
   "metadata": {},
   "outputs": [
    {
     "name": "stdout",
     "output_type": "stream",
     "text": [
      "Missing Values:\n",
      "Company    0\n",
      "Age        0\n",
      "Salary     0\n",
      "Place      0\n",
      "Country    0\n",
      "Gender     0\n",
      "dtype: int64\n"
     ]
    }
   ],
   "source": [
    "missing_values = df.isnull().sum()\n",
    "print(\"Missing Values:\")\n",
    "print(missing_values)"
   ]
  },
  {
   "cell_type": "code",
   "execution_count": 15,
   "id": "a1b4b0ef",
   "metadata": {},
   "outputs": [
    {
     "name": "stderr",
     "output_type": "stream",
     "text": [
      "C:\\Users\\aswat\\AppData\\Local\\Temp\\ipykernel_15040\\1379821321.py:1: SettingWithCopyWarning: \n",
      "A value is trying to be set on a copy of a slice from a DataFrame\n",
      "\n",
      "See the caveats in the documentation: https://pandas.pydata.org/pandas-docs/stable/user_guide/indexing.html#returning-a-view-versus-a-copy\n",
      "  df.dropna(inplace=True)\n"
     ]
    }
   ],
   "source": [
    "df.dropna(inplace=True)"
   ]
  },
  {
   "cell_type": "code",
   "execution_count": 16,
   "id": "41ecdc38",
   "metadata": {},
   "outputs": [
    {
     "name": "stderr",
     "output_type": "stream",
     "text": [
      "C:\\Users\\aswat\\AppData\\Local\\Temp\\ipykernel_15040\\3006716147.py:1: SettingWithCopyWarning: \n",
      "A value is trying to be set on a copy of a slice from a DataFrame\n",
      "\n",
      "See the caveats in the documentation: https://pandas.pydata.org/pandas-docs/stable/user_guide/indexing.html#returning-a-view-versus-a-copy\n",
      "  df.drop_duplicates(inplace=True)\n"
     ]
    }
   ],
   "source": [
    "df.drop_duplicates(inplace=True)"
   ]
  },
  {
   "cell_type": "markdown",
   "id": "69d4506c",
   "metadata": {},
   "source": [
    "### Data Analysis"
   ]
  },
  {
   "cell_type": "code",
   "execution_count": 17,
   "id": "ca916300",
   "metadata": {},
   "outputs": [],
   "source": [
    "filtered_data = df[(df['Age'] > 40) & (df['Salary'] < 5000)]"
   ]
  },
  {
   "cell_type": "code",
   "execution_count": 18,
   "id": "97e30139",
   "metadata": {},
   "outputs": [
    {
     "data": {
      "image/png": "[encoded data removed]",
      "text/plain": [
       "<Figure size 1000x600 with 1 Axes>"
      ]
     },
     "metadata": {},
     "output_type": "display_data"
    }
   ],
   "source": [
    "plt.figure(figsize=(10, 6))\n",
    "plt.scatter(df['Age'], df['Salary'], alpha=0.5)\n",
    "plt.title('Age vs. Salary')\n",
    "plt.xlabel('Age')\n",
    "plt.ylabel('Salary')\n",
    "plt.grid(True)\n",
    "plt.show()"
   ]
  },
  {
   "cell_type": "code",
   "execution_count": 19,
   "id": "82512821",
   "metadata": {},
   "outputs": [
    {
     "data": {
      "image/png": "[encoded data removed]",
      "text/plain": [
       "<Figure size 1000x600 with 1 Axes>"
      ]
     },
     "metadata": {},
     "output_type": "display_data"
    }
   ],
   "source": [
    "place_counts = df['Place'].value_counts()\n",
    "\n",
    "plt.figure(figsize=(10, 6))\n",
    "place_counts.plot(kind='bar', color='g')\n",
    "plt.xlabel('Place')\n",
    "plt.ylabel('Count')\n",
    "plt.title('Number of People from Each Place')\n",
    "plt.xticks(rotation=45)\n",
    "plt.show()"
   ]
  },
  {
   "cell_type": "markdown",
   "id": "1ecbe8bf",
   "metadata": {},
   "source": [
    "### Data Encoding"
   ]
  },
  {
   "cell_type": "code",
   "execution_count": 20,
   "id": "7eeddc35",
   "metadata": {},
   "outputs": [
    {
     "data": {
      "text/html": [
       "<div>\n",
       "<style scoped>\n",
       "    .dataframe tbody tr th:only-of-type {\n",
       "        vertical-align: middle;\n",
       "    }\n",
       "\n",
       "    .dataframe tbody tr th {\n",
       "        vertical-align: top;\n",
       "    }\n",
       "\n",
       "    .dataframe thead th {\n",
       "        text-align: right;\n",
       "    }\n",
       "</style>\n",
       "<table border=\"1\" class=\"dataframe\">\n",
       "  <thead>\n",
       "    <tr style=\"text-align: right;\">\n",
       "      <th></th>\n",
       "      <th>Company</th>\n",
       "      <th>Age</th>\n",
       "      <th>Salary</th>\n",
       "      <th>Place</th>\n",
       "      <th>Country</th>\n",
       "      <th>Gender</th>\n",
       "    </tr>\n",
       "  </thead>\n",
       "  <tbody>\n",
       "    <tr>\n",
       "      <th>2</th>\n",
       "      <td>TCS</td>\n",
       "      <td>35.0</td>\n",
       "      <td>2300.0</td>\n",
       "      <td>Calcutta</td>\n",
       "      <td>India</td>\n",
       "      <td>0</td>\n",
       "    </tr>\n",
       "    <tr>\n",
       "      <th>3</th>\n",
       "      <td>Infosys</td>\n",
       "      <td>40.0</td>\n",
       "      <td>3000.0</td>\n",
       "      <td>Delhi</td>\n",
       "      <td>India</td>\n",
       "      <td>0</td>\n",
       "    </tr>\n",
       "    <tr>\n",
       "      <th>4</th>\n",
       "      <td>TCS</td>\n",
       "      <td>23.0</td>\n",
       "      <td>4000.0</td>\n",
       "      <td>Mumbai</td>\n",
       "      <td>India</td>\n",
       "      <td>0</td>\n",
       "    </tr>\n",
       "    <tr>\n",
       "      <th>7</th>\n",
       "      <td>Infosys</td>\n",
       "      <td>23.0</td>\n",
       "      <td>7000.0</td>\n",
       "      <td>Mumbai</td>\n",
       "      <td>India</td>\n",
       "      <td>1</td>\n",
       "    </tr>\n",
       "    <tr>\n",
       "      <th>8</th>\n",
       "      <td>TCS</td>\n",
       "      <td>34.0</td>\n",
       "      <td>8000.0</td>\n",
       "      <td>Calcutta</td>\n",
       "      <td>India</td>\n",
       "      <td>1</td>\n",
       "    </tr>\n",
       "    <tr>\n",
       "      <th>...</th>\n",
       "      <td>...</td>\n",
       "      <td>...</td>\n",
       "      <td>...</td>\n",
       "      <td>...</td>\n",
       "      <td>...</td>\n",
       "      <td>...</td>\n",
       "    </tr>\n",
       "    <tr>\n",
       "      <th>142</th>\n",
       "      <td>Infosys Pvt Lmt</td>\n",
       "      <td>22.0</td>\n",
       "      <td>8202.0</td>\n",
       "      <td>Mumbai</td>\n",
       "      <td>India</td>\n",
       "      <td>0</td>\n",
       "    </tr>\n",
       "    <tr>\n",
       "      <th>143</th>\n",
       "      <td>TCS</td>\n",
       "      <td>33.0</td>\n",
       "      <td>9024.0</td>\n",
       "      <td>Calcutta</td>\n",
       "      <td>India</td>\n",
       "      <td>1</td>\n",
       "    </tr>\n",
       "    <tr>\n",
       "      <th>145</th>\n",
       "      <td>Infosys</td>\n",
       "      <td>44.0</td>\n",
       "      <td>4034.0</td>\n",
       "      <td>Delhi</td>\n",
       "      <td>India</td>\n",
       "      <td>1</td>\n",
       "    </tr>\n",
       "    <tr>\n",
       "      <th>146</th>\n",
       "      <td>TCS</td>\n",
       "      <td>33.0</td>\n",
       "      <td>5034.0</td>\n",
       "      <td>Mumbai</td>\n",
       "      <td>India</td>\n",
       "      <td>1</td>\n",
       "    </tr>\n",
       "    <tr>\n",
       "      <th>147</th>\n",
       "      <td>Infosys</td>\n",
       "      <td>22.0</td>\n",
       "      <td>8202.0</td>\n",
       "      <td>Cochin</td>\n",
       "      <td>India</td>\n",
       "      <td>0</td>\n",
       "    </tr>\n",
       "  </tbody>\n",
       "</table>\n",
       "<p>85 rows × 6 columns</p>\n",
       "</div>"
      ],
      "text/plain": [
       "             Company   Age  Salary     Place Country  Gender\n",
       "2                TCS  35.0  2300.0  Calcutta   India       0\n",
       "3            Infosys  40.0  3000.0     Delhi   India       0\n",
       "4                TCS  23.0  4000.0    Mumbai   India       0\n",
       "7            Infosys  23.0  7000.0    Mumbai   India       1\n",
       "8                TCS  34.0  8000.0  Calcutta   India       1\n",
       "..               ...   ...     ...       ...     ...     ...\n",
       "142  Infosys Pvt Lmt  22.0  8202.0    Mumbai   India       0\n",
       "143              TCS  33.0  9024.0  Calcutta   India       1\n",
       "145          Infosys  44.0  4034.0     Delhi   India       1\n",
       "146              TCS  33.0  5034.0    Mumbai   India       1\n",
       "147          Infosys  22.0  8202.0    Cochin   India       0\n",
       "\n",
       "[85 rows x 6 columns]"
      ]
     },
     "execution_count": 20,
     "metadata": {},
     "output_type": "execute_result"
    }
   ],
   "source": [
    "df"
   ]
  },
  {
   "cell_type": "code",
   "execution_count": 21,
   "id": "c38c2e67",
   "metadata": {},
   "outputs": [],
   "source": [
    "df_encoded = pd.get_dummies(df, columns=['Place'])"
   ]
  },
  {
   "cell_type": "code",
   "execution_count": 22,
   "id": "a06569ae",
   "metadata": {},
   "outputs": [
    {
     "name": "stderr",
     "output_type": "stream",
     "text": [
      "C:\\Users\\aswat\\AppData\\Local\\Temp\\ipykernel_15040\\767312004.py:4: SettingWithCopyWarning: \n",
      "A value is trying to be set on a copy of a slice from a DataFrame.\n",
      "Try using .loc[row_indexer,col_indexer] = value instead\n",
      "\n",
      "See the caveats in the documentation: https://pandas.pydata.org/pandas-docs/stable/user_guide/indexing.html#returning-a-view-versus-a-copy\n",
      "  df['Salary'] = le.fit_transform(df['Salary'])\n"
     ]
    }
   ],
   "source": [
    "from sklearn.preprocessing import LabelEncoder\n",
    "\n",
    "le = LabelEncoder()\n",
    "df['Salary'] = le.fit_transform(df['Salary'])"
   ]
  },
  {
   "cell_type": "code",
   "execution_count": 23,
   "id": "21645c74",
   "metadata": {},
   "outputs": [
    {
     "name": "stdout",
     "output_type": "stream",
     "text": [
      "             Company   Age  Salary Country  Gender  Place_Bhopal  \\\n",
      "2                TCS  35.0  2300.0   India       0         False   \n",
      "3            Infosys  40.0  3000.0   India       0         False   \n",
      "4                TCS  23.0  4000.0   India       0         False   \n",
      "7            Infosys  23.0  7000.0   India       1         False   \n",
      "8                TCS  34.0  8000.0   India       1         False   \n",
      "..               ...   ...     ...     ...     ...           ...   \n",
      "142  Infosys Pvt Lmt  22.0  8202.0   India       0         False   \n",
      "143              TCS  33.0  9024.0   India       1         False   \n",
      "145          Infosys  44.0  4034.0   India       1         False   \n",
      "146              TCS  33.0  5034.0   India       1         False   \n",
      "147          Infosys  22.0  8202.0   India       0         False   \n",
      "\n",
      "     Place_Calcutta  Place_Chennai  Place_Cochin  Place_Delhi  \\\n",
      "2              True          False         False        False   \n",
      "3             False          False         False         True   \n",
      "4             False          False         False        False   \n",
      "7             False          False         False        False   \n",
      "8              True          False         False        False   \n",
      "..              ...            ...           ...          ...   \n",
      "142           False          False         False        False   \n",
      "143            True          False         False        False   \n",
      "145           False          False         False         True   \n",
      "146           False          False         False        False   \n",
      "147           False          False          True        False   \n",
      "\n",
      "     Place_Hyderabad  Place_Mumbai  Place_Nagpur  Place_Noida  \\\n",
      "2              False         False         False        False   \n",
      "3              False         False         False        False   \n",
      "4              False          True         False        False   \n",
      "7              False          True         False        False   \n",
      "8              False         False         False        False   \n",
      "..               ...           ...           ...          ...   \n",
      "142            False          True         False        False   \n",
      "143            False         False         False        False   \n",
      "145            False         False         False        False   \n",
      "146            False          True         False        False   \n",
      "147            False         False         False        False   \n",
      "\n",
      "     Place_Podicherry  Place_Pune  \n",
      "2               False       False  \n",
      "3               False       False  \n",
      "4               False       False  \n",
      "7               False       False  \n",
      "8               False       False  \n",
      "..                ...         ...  \n",
      "142             False       False  \n",
      "143             False       False  \n",
      "145             False       False  \n",
      "146             False       False  \n",
      "147             False       False  \n",
      "\n",
      "[85 rows x 16 columns]\n",
      "             Company   Age  Salary     Place Country  Gender\n",
      "2                TCS  35.0       3  Calcutta   India       0\n",
      "3            Infosys  40.0       5     Delhi   India       0\n",
      "4                TCS  23.0      11    Mumbai   India       0\n",
      "7            Infosys  23.0      20    Mumbai   India       1\n",
      "8                TCS  34.0      22  Calcutta   India       1\n",
      "..               ...   ...     ...       ...     ...     ...\n",
      "142  Infosys Pvt Lmt  22.0      23    Mumbai   India       0\n",
      "143              TCS  33.0      28  Calcutta   India       1\n",
      "145          Infosys  44.0      12     Delhi   India       1\n",
      "146              TCS  33.0      17    Mumbai   India       1\n",
      "147          Infosys  22.0      23    Cochin   India       0\n",
      "\n",
      "[85 rows x 6 columns]\n"
     ]
    }
   ],
   "source": [
    "print(df_encoded)\n",
    "print(df)"
   ]
  },
  {
   "cell_type": "markdown",
   "id": "e6b33101",
   "metadata": {},
   "source": [
    "### Feature Scaling"
   ]
  },
  {
   "cell_type": "code",
   "execution_count": 24,
   "id": "3c3c614e",
   "metadata": {},
   "outputs": [],
   "source": [
    "from sklearn.preprocessing import StandardScaler"
   ]
  },
  {
   "cell_type": "code",
   "execution_count": 25,
   "id": "2a59b623",
   "metadata": {},
   "outputs": [
    {
     "name": "stdout",
     "output_type": "stream",
     "text": [
      "Standardized Data:\n",
      "[[ 0.25682503 -0.99729809]\n",
      " [ 0.79451289 -0.73388425]\n",
      " [-1.03362585 -0.35757876]\n",
      " [-1.03362585  0.77133771]\n",
      " [ 0.14928745  1.1476432 ]\n",
      " [ 1.33220076  1.52394869]\n",
      " [ 0.14928745 -1.45300403]\n",
      " [-1.57131372 -1.39843974]\n",
      " [ 0.79451289 -0.73388425]\n",
      " [-1.03362585 -0.73388425]\n",
      " [-1.03362585 -0.72259508]\n",
      " [ 0.14928745  0.01872673]\n",
      " [ 0.47190017 -0.7169505 ]\n",
      " [ 1.86988863 -0.66464404]\n",
      " [-1.248701   -0.04750303]\n",
      " [-1.03362585  1.50249927]\n",
      " [ 0.14928745  1.27746859]\n",
      " [ 1.33220076  1.63081944]\n",
      " [-1.03362585  1.85359229]\n",
      " [ 0.25682503 -1.09739535]\n",
      " [ 1.43973834  1.0174415 ]\n",
      " [-1.35623857 -0.75872041]\n",
      " [ 1.33220076 -0.34478437]\n",
      " [ 0.14928745 -0.99729809]\n",
      " [ 0.90205047 -0.73388425]\n",
      " [-0.92608828 -0.22775336]\n",
      " [ 0.25682503  1.1476432 ]\n",
      " [ 1.43973834  1.52394869]\n",
      " [-0.06578769 -1.45300403]\n",
      " [-1.46377615 -1.39843974]\n",
      " [ 0.90205047 -0.73388425]\n",
      " [-1.248701   -0.72259508]\n",
      " [ 0.25682503  0.01872673]\n",
      " [-1.248701    0.59974241]\n",
      " [-0.06578769  1.0174415 ]\n",
      " [ 0.57943775 -0.7169505 ]\n",
      " [ 1.9774262  -0.66464404]\n",
      " [-1.03362585 -0.04750303]\n",
      " [-0.17332527 -1.09739535]\n",
      " [-1.248701   -0.75872041]\n",
      " [ 1.11712562 -0.34478437]\n",
      " [-0.06578769  0.03152112]\n",
      " [-1.248701    1.22365691]\n",
      " [ 0.14928745  1.53298002]\n",
      " [ 0.47190017 -0.99729809]\n",
      " [ 1.22466319 -0.73388425]\n",
      " [-0.06578769 -0.35757876]\n",
      " [-0.71101313  0.77133771]\n",
      " [-0.06578769  1.1476432 ]\n",
      " [ 1.11712562  1.52394869]\n",
      " [ 0.04174988 -1.45300403]\n",
      " [-1.67885129 -1.39843974]\n",
      " [ 0.90205047 -0.73388425]\n",
      " [-1.248701   -0.73388425]\n",
      " [ 0.3643626   0.01872673]\n",
      " [ 2.30003892 -0.66464404]\n",
      " [-1.14116343 -0.04750303]\n",
      " [-1.14116343  1.50249927]\n",
      " [ 0.04174988  1.27746859]\n",
      " [ 1.22466319  1.63081944]\n",
      " [-1.14116343 -0.75872041]\n",
      " [ 1.22466319 -0.34478437]\n",
      " [ 0.04174988  0.03152112]\n",
      " [-1.14116343  1.22365691]\n",
      " [ 0.04174988 -0.99729809]\n",
      " [-1.14116343 -0.23565578]\n",
      " [-1.14116343  1.44379562]\n",
      " [ 0.04174988 -1.45300403]\n",
      " [ 1.22466319 -0.64582876]\n",
      " [-1.14116343  1.44379562]\n",
      " [-0.28086284  0.05560467]\n",
      " [ 0.04174988 -0.7169505 ]\n",
      " [ 1.86988863 -0.66464404]\n",
      " [-0.17332527  1.27746859]\n",
      " [ 0.79451289  1.63081944]\n",
      " [-0.17332527 -1.09739535]\n",
      " [ 1.22466319 -0.72146616]\n",
      " [-1.14116343 -0.75872041]\n",
      " [ 1.22466319 -0.34478437]\n",
      " [ 0.04174988  0.03152112]\n",
      " [-1.14116343  1.22365691]\n",
      " [ 0.04174988  1.53298002]\n",
      " [ 1.22466319 -0.34478437]\n",
      " [ 0.04174988  0.03152112]\n",
      " [-1.14116343  1.22365691]]\n"
     ]
    }
   ],
   "source": [
    "scaler = StandardScaler()\n",
    "scaled_data_standard = scaler.fit_transform(df_encoded[['Age', 'Salary']])\n",
    "print(\"Standardized Data:\")\n",
    "print(scaled_data_standard)"
   ]
  },
  {
   "cell_type": "code",
   "execution_count": 26,
   "id": "b1615b1f",
   "metadata": {},
   "outputs": [
    {
     "name": "stdout",
     "output_type": "stream",
     "text": [
      "MinMax Scaled Data:\n",
      "[[0.48648649 0.13781723]\n",
      " [0.62162162 0.21748037]\n",
      " [0.16216216 0.33128485]\n",
      " [0.16216216 0.6726983 ]\n",
      " [0.45945946 0.78650279]\n",
      " [0.75675676 0.90030727]\n",
      " [0.45945946 0.        ]\n",
      " [0.02702703 0.01650165]\n",
      " [0.62162162 0.21748037]\n",
      " [0.16216216 0.21748037]\n",
      " [0.16216216 0.2208945 ]\n",
      " [0.45945946 0.44508934]\n",
      " [0.54054054 0.22260157]\n",
      " [0.89189189 0.23842039]\n",
      " [0.10810811 0.42505975]\n",
      " [0.16216216 0.89382042]\n",
      " [0.45945946 0.82576534]\n",
      " [0.75675676 0.93262775]\n",
      " [0.16216216 1.        ]\n",
      " [0.48648649 0.10754524]\n",
      " [0.78378378 0.74712644]\n",
      " [0.08108108 0.20996927]\n",
      " [0.75675676 0.33515421]\n",
      " [0.45945946 0.13781723]\n",
      " [0.64864865 0.21748037]\n",
      " [0.18918919 0.3705474 ]\n",
      " [0.48648649 0.78650279]\n",
      " [0.78378378 0.90030727]\n",
      " [0.40540541 0.        ]\n",
      " [0.05405405 0.01650165]\n",
      " [0.64864865 0.21748037]\n",
      " [0.10810811 0.2208945 ]\n",
      " [0.48648649 0.44508934]\n",
      " [0.10810811 0.62080346]\n",
      " [0.40540541 0.74712644]\n",
      " [0.56756757 0.22260157]\n",
      " [0.91891892 0.23842039]\n",
      " [0.16216216 0.42505975]\n",
      " [0.37837838 0.10754524]\n",
      " [0.10810811 0.20996927]\n",
      " [0.7027027  0.33515421]\n",
      " [0.40540541 0.44895869]\n",
      " [0.10810811 0.80949129]\n",
      " [0.45945946 0.90303858]\n",
      " [0.54054054 0.13781723]\n",
      " [0.72972973 0.21748037]\n",
      " [0.40540541 0.33128485]\n",
      " [0.24324324 0.6726983 ]\n",
      " [0.40540541 0.78650279]\n",
      " [0.7027027  0.90030727]\n",
      " [0.43243243 0.        ]\n",
      " [0.         0.01650165]\n",
      " [0.64864865 0.21748037]\n",
      " [0.10810811 0.21748037]\n",
      " [0.51351351 0.44508934]\n",
      " [1.         0.23842039]\n",
      " [0.13513514 0.42505975]\n",
      " [0.13513514 0.89382042]\n",
      " [0.43243243 0.82576534]\n",
      " [0.72972973 0.93262775]\n",
      " [0.13513514 0.20996927]\n",
      " [0.72972973 0.33515421]\n",
      " [0.43243243 0.44895869]\n",
      " [0.13513514 0.80949129]\n",
      " [0.43243243 0.13781723]\n",
      " [0.13513514 0.36815751]\n",
      " [0.13513514 0.87606692]\n",
      " [0.43243243 0.        ]\n",
      " [0.72972973 0.24411062]\n",
      " [0.13513514 0.87606692]\n",
      " [0.35135135 0.45624218]\n",
      " [0.43243243 0.22260157]\n",
      " [0.89189189 0.23842039]\n",
      " [0.37837838 0.82576534]\n",
      " [0.62162162 0.93262775]\n",
      " [0.37837838 0.10754524]\n",
      " [0.72972973 0.22123592]\n",
      " [0.13513514 0.20996927]\n",
      " [0.72972973 0.33515421]\n",
      " [0.43243243 0.44895869]\n",
      " [0.13513514 0.80949129]\n",
      " [0.43243243 0.90303858]\n",
      " [0.72972973 0.33515421]\n",
      " [0.43243243 0.44895869]\n",
      " [0.13513514 0.80949129]]\n"
     ]
    }
   ],
   "source": [
    "from sklearn.preprocessing import MinMaxScaler\n",
    "\n",
    "\n",
    "scaler = MinMaxScaler()\n",
    "scaled_data_minmax = scaler.fit_transform(df_encoded[['Age', 'Salary']])\n",
    "print(\"MinMax Scaled Data:\")\n",
    "print(scaled_data_minmax)"
   ]
  },
  {
   "cell_type": "code",
   "execution_count": null,
   "id": "6f59583c",
   "metadata": {},
   "outputs": [],
   "source": []
  }
 ],
 "metadata": {
  "kernelspec": {
   "display_name": "Python 3 (ipykernel)",
   "language": "python",
   "name": "python3"
  },
  "language_info": {
   "codemirror_mode": {
    "name": "ipython",
    "version": 3
   },
   "file_extension": ".py",
   "mimetype": "text/x-python",
   "name": "python",
   "nbconvert_exporter": "python",
   "pygments_lexer": "ipython3",
   "version": "3.11.3"
  }
 },
 "nbformat": 4,
 "nbformat_minor": 5
}
